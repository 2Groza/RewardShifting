{
 "cells": [
  {
   "cell_type": "code",
   "execution_count": 1,
   "id": "a9d5ef79",
   "metadata": {},
   "outputs": [
    {
     "name": "stdout",
     "output_type": "stream",
     "text": [
      "Traceback (most recent call last):\r\n",
      "  File \"main.py\", line 51, in <module>\r\n",
      "    import OurDDPG\r\n",
      "ModuleNotFoundError: No module named 'OurDDPG'\r\n"
     ]
    }
   ],
   "source": [
    "!python3 main.py --reward_shift -0.5 --"
   ]
  },
  {
   "cell_type": "code",
   "execution_count": null,
   "id": "591f3c78",
   "metadata": {},
   "outputs": [],
   "source": []
  }
 ],
 "metadata": {
  "kernelspec": {
   "display_name": "py3.79",
   "language": "python",
   "name": "py2.7"
  },
  "language_info": {
   "codemirror_mode": {
    "name": "ipython",
    "version": 3
   },
   "file_extension": ".py",
   "mimetype": "text/x-python",
   "name": "python",
   "nbconvert_exporter": "python",
   "pygments_lexer": "ipython3",
   "version": "3.7.9"
  }
 },
 "nbformat": 4,
 "nbformat_minor": 5
}
